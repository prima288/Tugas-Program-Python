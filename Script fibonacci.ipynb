{
 "cells": [
  {
   "cell_type": "code",
   "execution_count": 2,
   "id": "d7185327",
   "metadata": {},
   "outputs": [
    {
     "name": "stdout",
     "output_type": "stream",
     "text": [
      "0\n",
      "0 1\n",
      "0 1 1\n",
      "0 1 1 2\n",
      "0 1 1 2 3\n",
      "0 1 1 2 3 5\n",
      "0 1 1 2 3 5 8\n",
      "0 1 1 2 3 5 8 13\n",
      "0 1 1 2 3 5 8 13 21\n",
      "0 1 1 2 3 5 8 13 21 34\n"
     ]
    }
   ],
   "source": [
    "fibonacci_numbers = [0, 1, 1, 2, 3, 5, 8, 13, 21, 34]\n",
    "\n",
    "for i in range(len(fibonacci_numbers)):\n",
    "    print(*fibonacci_numbers[:i+1])"
   ]
  }
 ],
 "metadata": {
  "kernelspec": {
   "display_name": "Python 3 (ipykernel)",
   "language": "python",
   "name": "python3"
  },
  "language_info": {
   "codemirror_mode": {
    "name": "ipython",
    "version": 3
   },
   "file_extension": ".py",
   "mimetype": "text/x-python",
   "name": "python",
   "nbconvert_exporter": "python",
   "pygments_lexer": "ipython3",
   "version": "3.9.12"
  }
 },
 "nbformat": 4,
 "nbformat_minor": 5
}
