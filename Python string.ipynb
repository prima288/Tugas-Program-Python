{
 "cells": [
  {
   "cell_type": "code",
   "execution_count": 2,
   "id": "efd526a3",
   "metadata": {},
   "outputs": [
    {
     "name": "stdout",
     "output_type": "stream",
     "text": [
      "19\n"
     ]
    }
   ],
   "source": [
    "str='kembangprimarossari'\n",
    "print(len(str))"
   ]
  },
  {
   "cell_type": "code",
   "execution_count": 10,
   "id": "67322fbe",
   "metadata": {},
   "outputs": [
    {
     "name": "stdout",
     "output_type": "stream",
     "text": [
      "Masukan Nama = Kembang Prima Rossari\n",
      "Jumlah Huruf Vokal Pada Kata = 7\n",
      "Jumlah Huruf Konsonan Pada Kata = 14\n"
     ]
    }
   ],
   "source": [
    "#hitung huruf vokal dan konsonan\n",
    "huruf_vokal = 0\n",
    "huruf_konsonan = 0\n",
    "kata=input(\"Masukan Nama = \")\n",
    "vokal='AIUEOaiueo'\n",
    "\n",
    "for i in kata:\n",
    "    if i in  vokal:\n",
    "        huruf_vokal+=1\n",
    "    else:\n",
    "            huruf_konsonan+=1\n",
    "print(\"Jumlah Huruf Vokal Pada Kata =\" ,huruf_vokal)\n",
    "print(\"Jumlah Huruf Konsonan Pada Kata =\" ,huruf_konsonan)"
   ]
  },
  {
   "cell_type": "code",
   "execution_count": null,
   "id": "2fd9bc5b",
   "metadata": {},
   "outputs": [],
   "source": []
  }
 ],
 "metadata": {
  "kernelspec": {
   "display_name": "Python 3 (ipykernel)",
   "language": "python",
   "name": "python3"
  },
  "language_info": {
   "codemirror_mode": {
    "name": "ipython",
    "version": 3
   },
   "file_extension": ".py",
   "mimetype": "text/x-python",
   "name": "python",
   "nbconvert_exporter": "python",
   "pygments_lexer": "ipython3",
   "version": "3.9.12"
  }
 },
 "nbformat": 4,
 "nbformat_minor": 5
}
